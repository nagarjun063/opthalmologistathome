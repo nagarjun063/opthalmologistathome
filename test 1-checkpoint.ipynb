{
 "cells": [
  {
   "cell_type": "code",
   "execution_count": 33,
   "metadata": {},
   "outputs": [],
   "source": [
    "import numpy as np\n",
    "import pandas as pd\n",
    "import matplotlib.pyplot as plt\n",
    "import seaborn as sns\n",
    "%matplotlib inline"
   ]
  },
  {
   "cell_type": "code",
   "execution_count": 34,
   "metadata": {},
   "outputs": [],
   "source": [
    "import cv2 "
   ]
  },
  {
   "cell_type": "code",
   "execution_count": 35,
   "metadata": {},
   "outputs": [],
   "source": [
    "import os"
   ]
  },
  {
   "cell_type": "code",
   "execution_count": 36,
   "metadata": {},
   "outputs": [],
   "source": [
    "work_dir = 'C:/Users/Chinmaya/Desktop/NOTES/Mozofest Hackathon/OpenCV testing/four-shapes/shapes'"
   ]
  },
  {
   "cell_type": "code",
   "execution_count": 37,
   "metadata": {},
   "outputs": [],
   "source": [
    "os.chdir(work_dir)"
   ]
  },
  {
   "cell_type": "code",
   "execution_count": 38,
   "metadata": {},
   "outputs": [],
   "source": [
    "img_size = 60 # need to be kept in mind for eyes later"
   ]
  },
  {
   "cell_type": "code",
   "execution_count": 53,
   "metadata": {},
   "outputs": [],
   "source": [
    "def flatten(dimData, images):\n",
    "    images = np.array(images)\n",
    "    images = images.reshape(len(images), dimData)\n",
    "    images = images/255\n",
    "    return images"
   ]
  },
  {
   "cell_type": "code",
   "execution_count": 40,
   "metadata": {},
   "outputs": [],
   "source": [
    "folders = ['triangle', 'star', 'square', 'circle']\n",
    "labels = []\n",
    "images = []"
   ]
  },
  {
   "cell_type": "code",
   "execution_count": 41,
   "metadata": {},
   "outputs": [
    {
     "name": "stdout",
     "output_type": "stream",
     "text": [
      "triangle\n",
      "star\n",
      "square\n",
      "circle\n"
     ]
    }
   ],
   "source": [
    "for folder in folders:\n",
    "    print(folder)\n",
    "    for path in os.listdir(os.getcwd()+'/'+folder):\n",
    "        img = cv2.imread(folder+'/'+path,0)\n",
    "    #    cv2.imshow('img',img)\n",
    "     #   cv2.waitKey(1)\n",
    "        images.append(cv2.resize(img, (img_size, img_size)))\n",
    "        labels.append(folders.index(folder))"
   ]
  },
  {
   "cell_type": "code",
   "execution_count": 42,
   "metadata": {},
   "outputs": [
    {
     "name": "stdout",
     "output_type": "stream",
     "text": [
      "done\n"
     ]
    }
   ],
   "source": [
    "print('done')"
   ]
  },
  {
   "cell_type": "code",
   "execution_count": 43,
   "metadata": {},
   "outputs": [
    {
     "data": {
      "text/plain": [
       "list"
      ]
     },
     "execution_count": 43,
     "metadata": {},
     "output_type": "execute_result"
    }
   ],
   "source": [
    "type(images)"
   ]
  },
  {
   "cell_type": "code",
   "execution_count": 44,
   "metadata": {},
   "outputs": [
    {
     "name": "stdout",
     "output_type": "stream",
     "text": [
      "[[255 255 255 ... 255 255 255]\n",
      " [255 255 255 ... 255 255 255]\n",
      " [255 255 255 ... 255 255 255]\n",
      " ...\n",
      " [255 255 255 ... 255 255 255]\n",
      " [255 255 255 ... 255 255 255]\n",
      " [255 255 255 ... 255 255 255]]\n"
     ]
    }
   ],
   "source": [
    "print(images[0])"
   ]
  },
  {
   "cell_type": "code",
   "execution_count": 45,
   "metadata": {},
   "outputs": [
    {
     "name": "stdout",
     "output_type": "stream",
     "text": [
      "done\n"
     ]
    }
   ],
   "source": [
    "print('done')"
   ]
  },
  {
   "cell_type": "code",
   "execution_count": 46,
   "metadata": {},
   "outputs": [
    {
     "data": {
      "text/plain": [
       "3600"
      ]
     },
     "execution_count": 46,
     "metadata": {},
     "output_type": "execute_result"
    }
   ],
   "source": [
    "images[0].size #60*60"
   ]
  },
  {
   "cell_type": "code",
   "execution_count": 47,
   "metadata": {},
   "outputs": [],
   "source": [
    "#break data into training and test sets\n",
    "to_train= 0\n",
    "train_images, test_images, train_labels, test_labels = [],[],[],[]\n",
    "for image, label in zip(images, labels):\n",
    "    if to_train<5:\n",
    "        train_images.append(image)\n",
    "        train_labels.append(label)\n",
    "        to_train+=1\n",
    "    else:\n",
    "        test_images.append(image)\n",
    "        test_labels.append(label)\n",
    "        to_train = 0"
   ]
  },
  {
   "cell_type": "code",
   "execution_count": 48,
   "metadata": {},
   "outputs": [],
   "source": [
    "#keras"
   ]
  },
  {
   "cell_type": "code",
   "execution_count": 49,
   "metadata": {},
   "outputs": [],
   "source": [
    "from keras.utils import to_categorical"
   ]
  },
  {
   "cell_type": "code",
   "execution_count": 54,
   "metadata": {},
   "outputs": [],
   "source": [
    "#flatten data\n",
    "dataDim = np.prod(images[0].shape)\n",
    "train_data  = flatten(dataDim, train_images)\n",
    "test_data = flatten(dataDim, test_images)"
   ]
  },
  {
   "cell_type": "code",
   "execution_count": 58,
   "metadata": {},
   "outputs": [],
   "source": [
    "#change labels to categorical\n",
    "train_labels = np.array(train_labels)\n",
    "test_labels = np.array(test_labels)\n",
    "train_labels_one_hot = to_categorical(train_labels)\n",
    "test_labels_one_hot = to_categorical(test_labels)"
   ]
  },
  {
   "cell_type": "code",
   "execution_count": 71,
   "metadata": {},
   "outputs": [],
   "source": [
    "#determine the number of classes\n",
    "classes = np.unique(train_labels)\n",
    "nClasses  = len(classes)"
   ]
  },
  {
   "cell_type": "code",
   "execution_count": 72,
   "metadata": {},
   "outputs": [],
   "source": [
    "from keras.models import Sequential\n",
    "from keras.layers import Dense\n",
    "from keras.layers import Dropout"
   ]
  },
  {
   "cell_type": "code",
   "execution_count": 75,
   "metadata": {},
   "outputs": [],
   "source": [
    "#three layers\n",
    "#activation function: both\n",
    "#neurons: 256\n",
    "model = Sequential()\n",
    "model.add(Dense(256, activation = 'tanh', input_shape = (dataDim,)))\n",
    "model.add(Dropout(0.2))\n",
    "model.add(Dense(256, activation='tanh'))\n",
    "model.add(Dropout(0.2))\n",
    "model.add(Dense(256, activation='relu'))\n",
    "model.add(Dropout(0.2))\n",
    "model.add(Dense(nClasses, activation='softmax'))"
   ]
  },
  {
   "cell_type": "code",
   "execution_count": 76,
   "metadata": {},
   "outputs": [
    {
     "name": "stdout",
     "output_type": "stream",
     "text": [
      "Train on 12475 samples, validate on 2495 samples\n",
      "Epoch 1/50\n",
      "12475/12475 [==============================] - 3s 265us/step - loss: 1.4809 - acc: 0.2564 - val_loss: 1.3598 - val_acc: 0.4970\n",
      "Epoch 2/50\n",
      "12475/12475 [==============================] - 2s 167us/step - loss: 1.2488 - acc: 0.3573 - val_loss: 0.7594 - val_acc: 0.4998\n",
      "Epoch 3/50\n",
      "12475/12475 [==============================] - 2s 162us/step - loss: 0.9018 - acc: 0.5116 - val_loss: 0.6367 - val_acc: 0.6906\n",
      "Epoch 4/50\n",
      "12475/12475 [==============================] - 2s 162us/step - loss: 0.7372 - acc: 0.6157 - val_loss: 0.6219 - val_acc: 0.6733\n",
      "Epoch 5/50\n",
      "12475/12475 [==============================] - 2s 162us/step - loss: 0.6045 - acc: 0.7076 - val_loss: 0.7548 - val_acc: 0.6180\n",
      "Epoch 6/50\n",
      "12475/12475 [==============================] - 2s 160us/step - loss: 0.5689 - acc: 0.7609 - val_loss: 0.5933 - val_acc: 0.7435\n",
      "Epoch 7/50\n",
      "12475/12475 [==============================] - 2s 163us/step - loss: 0.4823 - acc: 0.8293 - val_loss: 0.2868 - val_acc: 0.9006\n",
      "Epoch 8/50\n",
      "12475/12475 [==============================] - 2s 173us/step - loss: 0.3208 - acc: 0.9036 - val_loss: 0.0648 - val_acc: 0.9856\n",
      "Epoch 9/50\n",
      "12475/12475 [==============================] - 2s 173us/step - loss: 0.3537 - acc: 0.9016 - val_loss: 0.1114 - val_acc: 0.9828\n",
      "Epoch 10/50\n",
      "12475/12475 [==============================] - 2s 183us/step - loss: 0.2754 - acc: 0.9296 - val_loss: 0.1073 - val_acc: 0.9764\n",
      "Epoch 11/50\n",
      "12475/12475 [==============================] - 2s 180us/step - loss: 0.1504 - acc: 0.9568 - val_loss: 0.2234 - val_acc: 0.9407\n",
      "Epoch 12/50\n",
      "12475/12475 [==============================] - 2s 166us/step - loss: 0.2459 - acc: 0.9368 - val_loss: 0.0389 - val_acc: 0.9924\n",
      "Epoch 13/50\n",
      "12475/12475 [==============================] - 2s 161us/step - loss: 0.2094 - acc: 0.9454 - val_loss: 0.4425 - val_acc: 0.8597\n",
      "Epoch 14/50\n",
      "12475/12475 [==============================] - 2s 178us/step - loss: 0.1628 - acc: 0.9561 - val_loss: 0.0241 - val_acc: 0.9940\n",
      "Epoch 15/50\n",
      "12475/12475 [==============================] - 2s 182us/step - loss: 0.2162 - acc: 0.9546 - val_loss: 0.3982 - val_acc: 0.8401\n",
      "Epoch 16/50\n",
      "12475/12475 [==============================] - 2s 164us/step - loss: 0.1466 - acc: 0.9602 - val_loss: 0.3336 - val_acc: 0.9018\n",
      "Epoch 17/50\n",
      "12475/12475 [==============================] - 2s 165us/step - loss: 0.1948 - acc: 0.9539 - val_loss: 0.0517 - val_acc: 0.9892\n",
      "Epoch 18/50\n",
      "12475/12475 [==============================] - 2s 162us/step - loss: 0.1180 - acc: 0.9659 - val_loss: 0.2548 - val_acc: 0.9034\n",
      "Epoch 19/50\n",
      "12475/12475 [==============================] - 2s 160us/step - loss: 0.1081 - acc: 0.9732 - val_loss: 0.0192 - val_acc: 0.9956\n",
      "Epoch 20/50\n",
      "12475/12475 [==============================] - 2s 161us/step - loss: 0.1181 - acc: 0.9767 - val_loss: 0.0168 - val_acc: 0.9948\n",
      "Epoch 21/50\n",
      "12475/12475 [==============================] - 2s 160us/step - loss: 0.1189 - acc: 0.9703 - val_loss: 0.5880 - val_acc: 0.8617\n",
      "Epoch 22/50\n",
      "12475/12475 [==============================] - 2s 164us/step - loss: 0.1834 - acc: 0.9554 - val_loss: 0.0182 - val_acc: 0.9960\n",
      "Epoch 23/50\n",
      "12475/12475 [==============================] - 2s 163us/step - loss: 0.1233 - acc: 0.9703 - val_loss: 0.0211 - val_acc: 0.9944\n",
      "Epoch 24/50\n",
      "12475/12475 [==============================] - 2s 165us/step - loss: 0.1423 - acc: 0.9725 - val_loss: 0.0174 - val_acc: 0.9956\n",
      "Epoch 25/50\n",
      "12475/12475 [==============================] - 2s 178us/step - loss: 0.1313 - acc: 0.9729 - val_loss: 0.0160 - val_acc: 0.9960\n",
      "Epoch 26/50\n",
      "12475/12475 [==============================] - 2s 169us/step - loss: 0.0988 - acc: 0.9783 - val_loss: 0.0204 - val_acc: 0.9956\n",
      "Epoch 27/50\n",
      "12475/12475 [==============================] - 2s 166us/step - loss: 0.1179 - acc: 0.9695 - val_loss: 0.0147 - val_acc: 0.9964\n",
      "Epoch 28/50\n",
      "12475/12475 [==============================] - 2s 172us/step - loss: 0.0643 - acc: 0.9812 - val_loss: 0.0199 - val_acc: 0.9944\n",
      "Epoch 29/50\n",
      "12475/12475 [==============================] - 2s 176us/step - loss: 0.0939 - acc: 0.9774 - val_loss: 0.0147 - val_acc: 0.9964\n",
      "Epoch 30/50\n",
      "12475/12475 [==============================] - 2s 166us/step - loss: 0.0895 - acc: 0.9789 - val_loss: 0.0234 - val_acc: 0.9944\n",
      "Epoch 31/50\n",
      "12475/12475 [==============================] - 2s 164us/step - loss: 0.1134 - acc: 0.9772 - val_loss: 0.0207 - val_acc: 0.9956\n",
      "Epoch 32/50\n",
      "12475/12475 [==============================] - 2s 162us/step - loss: 0.0861 - acc: 0.9804 - val_loss: 0.0150 - val_acc: 0.9968\n",
      "Epoch 33/50\n",
      "12475/12475 [==============================] - 2s 162us/step - loss: 0.0425 - acc: 0.9876 - val_loss: 0.0153 - val_acc: 0.9956\n",
      "Epoch 34/50\n",
      "12475/12475 [==============================] - 2s 160us/step - loss: 0.0872 - acc: 0.9776 - val_loss: 0.0184 - val_acc: 0.9964\n",
      "Epoch 35/50\n",
      "12475/12475 [==============================] - 2s 161us/step - loss: 0.1111 - acc: 0.9770 - val_loss: 0.0237 - val_acc: 0.9952\n",
      "Epoch 36/50\n",
      "12475/12475 [==============================] - 2s 173us/step - loss: 0.0808 - acc: 0.9839 - val_loss: 0.0283 - val_acc: 0.9904\n",
      "Epoch 37/50\n",
      "12475/12475 [==============================] - 2s 174us/step - loss: 0.0661 - acc: 0.9814 - val_loss: 0.0666 - val_acc: 0.9944\n",
      "Epoch 38/50\n",
      "12475/12475 [==============================] - 2s 166us/step - loss: 0.0759 - acc: 0.9795 - val_loss: 0.0141 - val_acc: 0.9968\n",
      "Epoch 39/50\n",
      "12475/12475 [==============================] - 2s 166us/step - loss: 0.0560 - acc: 0.9857 - val_loss: 0.0149 - val_acc: 0.9964\n",
      "Epoch 40/50\n",
      "12475/12475 [==============================] - 2s 165us/step - loss: 0.0995 - acc: 0.9820 - val_loss: 0.0140 - val_acc: 0.9968\n",
      "Epoch 41/50\n",
      "12475/12475 [==============================] - 2s 164us/step - loss: 0.0895 - acc: 0.9834 - val_loss: 0.0152 - val_acc: 0.9964\n",
      "Epoch 42/50\n",
      "12475/12475 [==============================] - 2s 162us/step - loss: 0.0424 - acc: 0.9888 - val_loss: 0.0149 - val_acc: 0.9956\n",
      "Epoch 43/50\n",
      "12475/12475 [==============================] - 2s 164us/step - loss: 0.0774 - acc: 0.9865 - val_loss: 0.0138 - val_acc: 0.9964\n",
      "Epoch 44/50\n",
      "12475/12475 [==============================] - 2s 168us/step - loss: 0.0704 - acc: 0.9837 - val_loss: 0.0132 - val_acc: 0.9968\n",
      "Epoch 45/50\n",
      "12475/12475 [==============================] - 2s 167us/step - loss: 0.0482 - acc: 0.9872 - val_loss: 0.0146 - val_acc: 0.9960\n",
      "Epoch 46/50\n",
      "12475/12475 [==============================] - 2s 166us/step - loss: 0.0811 - acc: 0.9820 - val_loss: 0.0157 - val_acc: 0.9956\n",
      "Epoch 47/50\n",
      "12475/12475 [==============================] - 2s 164us/step - loss: 0.0592 - acc: 0.9838 - val_loss: 0.0117 - val_acc: 0.9976\n",
      "Epoch 48/50\n",
      "12475/12475 [==============================] - 2s 164us/step - loss: 0.0399 - acc: 0.9897 - val_loss: 0.0177 - val_acc: 0.9960\n",
      "Epoch 49/50\n",
      "12475/12475 [==============================] - 2s 167us/step - loss: 0.0604 - acc: 0.9847 - val_loss: 0.0124 - val_acc: 0.9972\n",
      "Epoch 50/50\n",
      "12475/12475 [==============================] - 2s 166us/step - loss: 0.0297 - acc: 0.9914 - val_loss: 0.0216 - val_acc: 0.9972\n"
     ]
    }
   ],
   "source": [
    "model.compile(optimizer='rmsprop', loss='categorical_crossentropy', metrics=['accuracy'])\n",
    "history = model.fit(train_data, train_labels_one_hot, batch_size = 256, epochs=50, verbose=1,\n",
    "                    validation_data=(test_data, test_labels_one_hot))"
   ]
  },
  {
   "cell_type": "code",
   "execution_count": 77,
   "metadata": {},
   "outputs": [
    {
     "name": "stdout",
     "output_type": "stream",
     "text": [
      "2495/2495 [==============================] - 0s 80us/step\n",
      "Evaluation result on Test Data : Loss = 0.02164876117725988, accuracy = 0.9971943887775551\n"
     ]
    }
   ],
   "source": [
    "#test model\n",
    "[test_loss, test_acc] = model.evaluate(test_data, test_labels_one_hot)\n",
    "print(\"Evaluation result on Test Data : Loss = {}, accuracy = {}\".format(test_loss, test_acc))"
   ]
  },
  {
   "cell_type": "code",
   "execution_count": 78,
   "metadata": {},
   "outputs": [],
   "source": [
    "#save model\n",
    "model.save('C:/Users/Chinmaya/Desktop/NOTES/Mozofest Hackathon/OpenCV testing/four-shapes/shapes/shapesmodel.h5')"
   ]
  },
  {
   "cell_type": "code",
   "execution_count": null,
   "metadata": {},
   "outputs": [],
   "source": []
  },
  {
   "cell_type": "code",
   "execution_count": null,
   "metadata": {},
   "outputs": [],
   "source": []
  },
  {
   "cell_type": "code",
   "execution_count": null,
   "metadata": {},
   "outputs": [],
   "source": []
  },
  {
   "cell_type": "code",
   "execution_count": null,
   "metadata": {},
   "outputs": [],
   "source": []
  },
  {
   "cell_type": "code",
   "execution_count": null,
   "metadata": {},
   "outputs": [],
   "source": []
  },
  {
   "cell_type": "code",
   "execution_count": null,
   "metadata": {},
   "outputs": [],
   "source": []
  }
 ],
 "metadata": {
  "kernelspec": {
   "display_name": "Python 3",
   "language": "python",
   "name": "python3"
  },
  "language_info": {
   "codemirror_mode": {
    "name": "ipython",
    "version": 3
   },
   "file_extension": ".py",
   "mimetype": "text/x-python",
   "name": "python",
   "nbconvert_exporter": "python",
   "pygments_lexer": "ipython3",
   "version": "3.6.8"
  }
 },
 "nbformat": 4,
 "nbformat_minor": 2
}
