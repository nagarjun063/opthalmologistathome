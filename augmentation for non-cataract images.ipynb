{
 "cells": [
  {
   "cell_type": "code",
   "execution_count": 9,
   "metadata": {},
   "outputs": [
    {
     "name": "stdout",
     "output_type": "stream",
     "text": [
      "Initialised with 17 image(s) found.\n",
      "Output directory set to C:/Users/dheer/Desktop/images/non cataract\\output."
     ]
    },
    {
     "name": "stderr",
     "output_type": "stream",
     "text": [
      "Processing <PIL.Image.Image image mode=RGB size=259x194 at 0x29C45014B00>: 100%|█| 1000/1000 [00:31<00:00, 31.85 Samples/s] \n"
     ]
    }
   ],
   "source": [
    "import Augmentor\n",
    "def resize_img(im):\n",
    "        resized_img = cv.resize(im, (128, 128))\n",
    "        return resized_img\n",
    "\n",
    "\n",
    "    # https://github.com/mdbloice/Augmentor\n",
    "def create_samples(dir):\n",
    "        p = Augmentor.Pipeline(dir)\n",
    "        # Point to a directory containing ground truth data.\n",
    "        # Images with the same file names will be added as ground truth data\n",
    "        # and augmented in parallel to the original data.\n",
    "        # p.ground_truth(\"/path/to/ground_truth_images\")\n",
    "        # Add operations to the pipeline as normal:\n",
    "        p.rotate(probability=1, max_left_rotation=5, max_right_rotation=5)\n",
    "        p.flip_left_right(probability=0.5)\n",
    "        p.zoom_random(probability=0.5, percentage_area=0.8)\n",
    "        p.flip_top_bottom(probability=0.5)\n",
    "        p.sample(1000)\n",
    "dir1='C:/Users/dheer/Desktop/images/non cataract'\n",
    "create_samples(dir1)"
   ]
  },
  {
   "cell_type": "code",
   "execution_count": null,
   "metadata": {},
   "outputs": [],
   "source": []
  },
  {
   "cell_type": "code",
   "execution_count": null,
   "metadata": {},
   "outputs": [],
   "source": []
  }
 ],
 "metadata": {
  "kernelspec": {
   "display_name": "Python 3",
   "language": "python",
   "name": "python3"
  },
  "language_info": {
   "codemirror_mode": {
    "name": "ipython",
    "version": 3
   },
   "file_extension": ".py",
   "mimetype": "text/x-python",
   "name": "python",
   "nbconvert_exporter": "python",
   "pygments_lexer": "ipython3",
   "version": "3.6.5"
  }
 },
 "nbformat": 4,
 "nbformat_minor": 2
}
