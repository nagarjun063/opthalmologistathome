{
 "cells": [
  {
   "cell_type": "code",
   "execution_count": 1,
   "metadata": {},
   "outputs": [],
   "source": [
    "import numpy as np\n",
    "import pandas as pd\n",
    "import matplotlib.pyplot as plt\n",
    "import seaborn as sns\n",
    "%matplotlib inline\n",
    "import cv2 \n",
    "import os\n",
    "work_dir = 'C:/Users/Chinmaya/Desktop/NOTES/Mozofest Hackathon/eye/images'\n",
    "os.chdir(work_dir)"
   ]
  },
  {
   "cell_type": "code",
   "execution_count": 3,
   "metadata": {},
   "outputs": [],
   "source": [
    "def flatten(dimData, images):\n",
    "    images = np.array(images)\n",
    "    images = images.reshape(len(images), dimData)\n",
    "    images = images/255\n",
    "    return images"
   ]
  },
  {
   "cell_type": "code",
   "execution_count": 5,
   "metadata": {},
   "outputs": [],
   "source": [
    "folders = ['cat','normal']\n",
    "labels = []\n",
    "images = []"
   ]
  },
  {
   "cell_type": "code",
   "execution_count": 9,
   "metadata": {},
   "outputs": [],
   "source": [
    "img_size = 80"
   ]
  },
  {
   "cell_type": "code",
   "execution_count": 10,
   "metadata": {},
   "outputs": [
    {
     "name": "stdout",
     "output_type": "stream",
     "text": [
      "cat\n",
      "normal\n"
     ]
    }
   ],
   "source": [
    "for folder in folders:\n",
    "    print(folder)\n",
    "    for path in os.listdir(os.getcwd()+'/'+folder):\n",
    "        img = cv2.imread(folder+'/'+path,3)\n",
    "    #    cv2.imshow('img',img)\n",
    "     #   cv2.waitKey(1)\n",
    "        images.append(cv2.resize(img, (img_size, img_size)))\n",
    "        labels.append(folders.index(folder))"
   ]
  },
  {
   "cell_type": "code",
   "execution_count": 16,
   "metadata": {},
   "outputs": [
    {
     "data": {
      "text/plain": [
       "(80, 80, 3)"
      ]
     },
     "execution_count": 16,
     "metadata": {},
     "output_type": "execute_result"
    }
   ],
   "source": [
    "images[0].shape"
   ]
  },
  {
   "cell_type": "code",
   "execution_count": 17,
   "metadata": {},
   "outputs": [],
   "source": [
    "#labels = 0 for cataract\n",
    "#labels = 1 for normal"
   ]
  },
  {
   "cell_type": "code",
   "execution_count": 18,
   "metadata": {},
   "outputs": [],
   "source": [
    "#break data into training and test sets\n",
    "to_train= 0\n",
    "train_images, test_images, train_labels, test_labels = [],[],[],[]\n",
    "for image, label in zip(images, labels):\n",
    "    if to_train<5:\n",
    "        train_images.append(image)\n",
    "        train_labels.append(label)\n",
    "        to_train+=1\n",
    "    else:\n",
    "        test_images.append(image)\n",
    "        test_labels.append(label)\n",
    "        to_train = 0"
   ]
  },
  {
   "cell_type": "code",
   "execution_count": 19,
   "metadata": {},
   "outputs": [],
   "source": [
    "#keras training "
   ]
  },
  {
   "cell_type": "code",
   "execution_count": 20,
   "metadata": {},
   "outputs": [
    {
     "name": "stderr",
     "output_type": "stream",
     "text": [
      "Using TensorFlow backend.\n"
     ]
    }
   ],
   "source": [
    "from keras.utils import to_categorical"
   ]
  },
  {
   "cell_type": "code",
   "execution_count": 21,
   "metadata": {},
   "outputs": [
    {
     "data": {
      "text/plain": [
       "(80, 80, 3)"
      ]
     },
     "execution_count": 21,
     "metadata": {},
     "output_type": "execute_result"
    }
   ],
   "source": [
    "train_images[0].shape"
   ]
  },
  {
   "cell_type": "code",
   "execution_count": 22,
   "metadata": {},
   "outputs": [],
   "source": [
    "dataDim = np.prod(images[0].shape)\n",
    "train_data  = flatten(dataDim, train_images)\n",
    "test_data = flatten(dataDim, test_images)"
   ]
  },
  {
   "cell_type": "code",
   "execution_count": 23,
   "metadata": {},
   "outputs": [
    {
     "data": {
      "text/plain": [
       "(80, 80, 3)"
      ]
     },
     "execution_count": 23,
     "metadata": {},
     "output_type": "execute_result"
    }
   ],
   "source": [
    "train_images[0].shape"
   ]
  },
  {
   "cell_type": "code",
   "execution_count": 56,
   "metadata": {},
   "outputs": [],
   "source": [
    "#change labels to categorical\n",
    "train_labels = np.array(train_labels)\n",
    "test_labels = np.array(test_labels)\n",
    "train_labels_one_hot = to_categorical(train_labels)\n",
    "test_labels_one_hot = to_categorical(test_labels)"
   ]
  },
  {
   "cell_type": "code",
   "execution_count": 55,
   "metadata": {},
   "outputs": [],
   "source": [
    "#determine the number of classes\n",
    "classes = np.unique(train_labels)\n",
    "nClasses  = len(classes)"
   ]
  },
  {
   "cell_type": "code",
   "execution_count": 32,
   "metadata": {},
   "outputs": [],
   "source": [
    "from keras.models import Sequential\n",
    "from keras.layers import Dense\n",
    "from keras.layers import Dropout"
   ]
  },
  {
   "cell_type": "code",
   "execution_count": 37,
   "metadata": {},
   "outputs": [
    {
     "data": {
      "text/plain": [
       "19200"
      ]
     },
     "execution_count": 37,
     "metadata": {},
     "output_type": "execute_result"
    }
   ],
   "source": [
    "dataDim #80*80*3"
   ]
  },
  {
   "cell_type": "code",
   "execution_count": 38,
   "metadata": {},
   "outputs": [],
   "source": [
    "#three layers\n",
    "#activation function: both\n",
    "#neurons: 256\n",
    "model = Sequential()\n",
    "model.add(Dense(256, activation = 'tanh', input_shape = (dataDim,)))\n",
    "model.add(Dropout(0.2))\n",
    "model.add(Dense(256, activation='tanh'))\n",
    "model.add(Dropout(0.2))\n",
    "model.add(Dense(256, activation='relu'))\n",
    "model.add(Dropout(0.2))\n",
    "model.add(Dense(nClasses, activation='softmax'))"
   ]
  },
  {
   "cell_type": "code",
   "execution_count": 39,
   "metadata": {},
   "outputs": [
    {
     "name": "stdout",
     "output_type": "stream",
     "text": [
      "Train on 1667 samples, validate on 333 samples\n",
      "Epoch 1/50\n",
      "1667/1667 [==============================] - 2s 1ms/step - loss: 1.2538 - acc: 0.4949 - val_loss: 0.7212 - val_acc: 0.5015\n",
      "Epoch 2/50\n",
      "1667/1667 [==============================] - 1s 709us/step - loss: 0.7274 - acc: 0.4991 - val_loss: 0.6965 - val_acc: 0.4985\n",
      "Epoch 3/50\n",
      "1667/1667 [==============================] - 1s 702us/step - loss: 0.7123 - acc: 0.5087 - val_loss: 0.6984 - val_acc: 0.5015\n",
      "Epoch 4/50\n",
      "1667/1667 [==============================] - 1s 701us/step - loss: 0.7159 - acc: 0.5081 - val_loss: 0.7220 - val_acc: 0.4985\n",
      "Epoch 5/50\n",
      "1667/1667 [==============================] - 1s 703us/step - loss: 0.7327 - acc: 0.4811 - val_loss: 0.6939 - val_acc: 0.4985\n",
      "Epoch 6/50\n",
      "1667/1667 [==============================] - 1s 825us/step - loss: 0.7015 - acc: 0.5303 - val_loss: 0.6932 - val_acc: 0.5015\n",
      "Epoch 7/50\n",
      "1667/1667 [==============================] - 1s 835us/step - loss: 0.7248 - acc: 0.5045 - val_loss: 0.6932 - val_acc: 0.4985\n",
      "Epoch 8/50\n",
      "1667/1667 [==============================] - 1s 863us/step - loss: 0.7001 - acc: 0.5063 - val_loss: 0.6932 - val_acc: 0.5015\n",
      "Epoch 9/50\n",
      "1667/1667 [==============================] - 1s 724us/step - loss: 0.7017 - acc: 0.5009 - val_loss: 0.7165 - val_acc: 0.4985\n",
      "Epoch 10/50\n",
      "1667/1667 [==============================] - 1s 866us/step - loss: 0.7008 - acc: 0.4973 - val_loss: 0.6945 - val_acc: 0.5015\n",
      "Epoch 11/50\n",
      "1667/1667 [==============================] - 1s 793us/step - loss: 0.7033 - acc: 0.4871 - val_loss: 0.6951 - val_acc: 0.5015\n",
      "Epoch 12/50\n",
      "1667/1667 [==============================] - 1s 754us/step - loss: 0.6955 - acc: 0.5117 - val_loss: 0.6960 - val_acc: 0.5015\n",
      "Epoch 13/50\n",
      "1667/1667 [==============================] - 1s 731us/step - loss: 0.7012 - acc: 0.4799 - val_loss: 0.6940 - val_acc: 0.5015\n",
      "Epoch 14/50\n",
      "1667/1667 [==============================] - 1s 722us/step - loss: 0.6979 - acc: 0.4907 - val_loss: 0.6970 - val_acc: 0.4985\n",
      "Epoch 15/50\n",
      "1667/1667 [==============================] - 1s 778us/step - loss: 0.6952 - acc: 0.5135 - val_loss: 0.6965 - val_acc: 0.5015\n",
      "Epoch 16/50\n",
      "1667/1667 [==============================] - 1s 725us/step - loss: 0.7034 - acc: 0.4925 - val_loss: 0.6933 - val_acc: 0.5015\n",
      "Epoch 17/50\n",
      "1667/1667 [==============================] - 1s 734us/step - loss: 0.6982 - acc: 0.4967 - val_loss: 0.6932 - val_acc: 0.5015\n",
      "Epoch 18/50\n",
      "1667/1667 [==============================] - 1s 720us/step - loss: 0.6960 - acc: 0.4943 - val_loss: 0.6972 - val_acc: 0.5015\n",
      "Epoch 19/50\n",
      "1667/1667 [==============================] - 1s 756us/step - loss: 0.6965 - acc: 0.5003 - val_loss: 0.6932 - val_acc: 0.5015\n",
      "Epoch 20/50\n",
      "1667/1667 [==============================] - 1s 760us/step - loss: 0.6930 - acc: 0.5177 - val_loss: 0.6933 - val_acc: 0.4985\n",
      "Epoch 21/50\n",
      "1667/1667 [==============================] - 1s 739us/step - loss: 0.7046 - acc: 0.5045 - val_loss: 0.6936 - val_acc: 0.5015\n",
      "Epoch 22/50\n",
      "1667/1667 [==============================] - 1s 719us/step - loss: 0.6944 - acc: 0.4871 - val_loss: 0.6932 - val_acc: 0.5015\n",
      "Epoch 23/50\n",
      "1667/1667 [==============================] - 1s 719us/step - loss: 0.6970 - acc: 0.4769 - val_loss: 0.6937 - val_acc: 0.4985\n",
      "Epoch 24/50\n",
      "1667/1667 [==============================] - 1s 739us/step - loss: 0.6978 - acc: 0.4853 - val_loss: 0.6933 - val_acc: 0.4985\n",
      "Epoch 25/50\n",
      "1667/1667 [==============================] - 1s 843us/step - loss: 0.6953 - acc: 0.4865 - val_loss: 0.6932 - val_acc: 0.4985\n",
      "Epoch 26/50\n",
      "1667/1667 [==============================] - 1s 718us/step - loss: 0.6951 - acc: 0.5045 - val_loss: 0.6935 - val_acc: 0.4985\n",
      "Epoch 27/50\n",
      "1667/1667 [==============================] - 1s 716us/step - loss: 0.6974 - acc: 0.4847 - val_loss: 0.6938 - val_acc: 0.4985\n",
      "Epoch 28/50\n",
      "1667/1667 [==============================] - 1s 710us/step - loss: 0.6947 - acc: 0.4751 - val_loss: 0.6932 - val_acc: 0.4985\n",
      "Epoch 29/50\n",
      "1667/1667 [==============================] - 1s 710us/step - loss: 0.6934 - acc: 0.5009 - val_loss: 0.6936 - val_acc: 0.5015\n",
      "Epoch 30/50\n",
      "1667/1667 [==============================] - 1s 714us/step - loss: 0.6959 - acc: 0.4961 - val_loss: 0.6947 - val_acc: 0.4985\n",
      "Epoch 31/50\n",
      "1667/1667 [==============================] - 1s 740us/step - loss: 0.6963 - acc: 0.4985 - val_loss: 0.6937 - val_acc: 0.5015\n",
      "Epoch 32/50\n",
      "1667/1667 [==============================] - 1s 707us/step - loss: 0.6950 - acc: 0.4889 - val_loss: 0.6932 - val_acc: 0.4985\n",
      "Epoch 33/50\n",
      "1667/1667 [==============================] - 1s 719us/step - loss: 0.6945 - acc: 0.4829 - val_loss: 0.6932 - val_acc: 0.4985\n",
      "Epoch 34/50\n",
      "1667/1667 [==============================] - 1s 731us/step - loss: 0.6932 - acc: 0.4931 - val_loss: 0.6933 - val_acc: 0.4985\n",
      "Epoch 35/50\n",
      "1667/1667 [==============================] - 1s 712us/step - loss: 0.6935 - acc: 0.5099 - val_loss: 0.7012 - val_acc: 0.5015\n",
      "Epoch 36/50\n",
      "1667/1667 [==============================] - 1s 714us/step - loss: 0.6956 - acc: 0.4979 - val_loss: 0.6938 - val_acc: 0.4985\n",
      "Epoch 37/50\n",
      "1667/1667 [==============================] - 1s 710us/step - loss: 0.6926 - acc: 0.5117 - val_loss: 0.6941 - val_acc: 0.5015\n",
      "Epoch 38/50\n",
      "1667/1667 [==============================] - 1s 706us/step - loss: 0.6952 - acc: 0.5015 - val_loss: 0.6948 - val_acc: 0.4985\n",
      "Epoch 39/50\n",
      "1667/1667 [==============================] - 1s 707us/step - loss: 0.6950 - acc: 0.4955 - val_loss: 0.6979 - val_acc: 0.5015\n",
      "Epoch 40/50\n",
      "1667/1667 [==============================] - 1s 705us/step - loss: 0.6926 - acc: 0.5345 - val_loss: 0.7326 - val_acc: 0.5015\n",
      "Epoch 41/50\n",
      "1667/1667 [==============================] - 1s 708us/step - loss: 0.7003 - acc: 0.5105 - val_loss: 0.6943 - val_acc: 0.4985\n",
      "Epoch 42/50\n",
      "1667/1667 [==============================] - 1s 781us/step - loss: 0.6964 - acc: 0.4691 - val_loss: 0.6934 - val_acc: 0.4985\n",
      "Epoch 43/50\n",
      "1667/1667 [==============================] - 1s 885us/step - loss: 0.6943 - acc: 0.4997 - val_loss: 0.6932 - val_acc: 0.4985\n",
      "Epoch 44/50\n",
      "1667/1667 [==============================] - 1s 716us/step - loss: 0.6971 - acc: 0.4949 - val_loss: 0.6931 - val_acc: 0.4985\n",
      "Epoch 45/50\n",
      "1667/1667 [==============================] - 1s 704us/step - loss: 0.6931 - acc: 0.5153 - val_loss: 0.6945 - val_acc: 0.4985\n",
      "Epoch 46/50\n",
      "1667/1667 [==============================] - 1s 709us/step - loss: 0.6983 - acc: 0.4931 - val_loss: 0.6936 - val_acc: 0.4985\n",
      "Epoch 47/50\n",
      "1667/1667 [==============================] - 1s 703us/step - loss: 0.6939 - acc: 0.4925 - val_loss: 0.6931 - val_acc: 0.5015\n",
      "Epoch 48/50\n",
      "1667/1667 [==============================] - 1s 706us/step - loss: 0.6958 - acc: 0.5021 - val_loss: 0.6931 - val_acc: 0.5015\n",
      "Epoch 49/50\n",
      "1667/1667 [==============================] - 1s 710us/step - loss: 0.6964 - acc: 0.5003 - val_loss: 0.6936 - val_acc: 0.5015\n",
      "Epoch 50/50\n",
      "1667/1667 [==============================] - 1s 704us/step - loss: 0.6975 - acc: 0.4943 - val_loss: 0.6931 - val_acc: 0.5015\n"
     ]
    }
   ],
   "source": [
    "model.compile(optimizer='rmsprop', loss='categorical_crossentropy', metrics=['accuracy'])\n",
    "history = model.fit(train_data, train_labels_one_hot, batch_size = 256, epochs=50, verbose=1,\n",
    "                    validation_data=(test_data, test_labels_one_hot))"
   ]
  },
  {
   "cell_type": "code",
   "execution_count": 40,
   "metadata": {},
   "outputs": [
    {
     "name": "stdout",
     "output_type": "stream",
     "text": [
      "333/333 [==============================] - 0s 358us/step\n",
      "Evaluation result on Test Data : Loss = 0.6931448446379768, accuracy = 0.5015015015015015\n"
     ]
    }
   ],
   "source": [
    "#test model\n",
    "[test_loss, test_acc] = model.evaluate(test_data, test_labels_one_hot)\n",
    "print(\"Evaluation result on Test Data : Loss = {}, accuracy = {}\".format(test_loss, test_acc))"
   ]
  },
  {
   "cell_type": "code",
   "execution_count": null,
   "metadata": {},
   "outputs": [],
   "source": []
  },
  {
   "cell_type": "code",
   "execution_count": 45,
   "metadata": {},
   "outputs": [],
   "source": [
    "me = os.listdir(os.getcwd()+'/new')[0]"
   ]
  },
  {
   "cell_type": "code",
   "execution_count": 46,
   "metadata": {},
   "outputs": [],
   "source": [
    "ime = cv2.imread('new/'+me,3)"
   ]
  },
  {
   "cell_type": "code",
   "execution_count": 51,
   "metadata": {},
   "outputs": [
    {
     "data": {
      "text/plain": [
       "(3264, 2448, 3)"
      ]
     },
     "execution_count": 51,
     "metadata": {},
     "output_type": "execute_result"
    }
   ],
   "source": [
    "ime.shape"
   ]
  },
  {
   "cell_type": "code",
   "execution_count": 52,
   "metadata": {},
   "outputs": [],
   "source": [
    "ime = cv2.resize(ime, (img_size, img_size))"
   ]
  },
  {
   "cell_type": "code",
   "execution_count": 53,
   "metadata": {},
   "outputs": [
    {
     "data": {
      "text/plain": [
       "(80, 80, 3)"
      ]
     },
     "execution_count": 53,
     "metadata": {},
     "output_type": "execute_result"
    }
   ],
   "source": [
    "ime.shape"
   ]
  },
  {
   "cell_type": "code",
   "execution_count": 54,
   "metadata": {},
   "outputs": [
    {
     "data": {
      "text/plain": [
       "array([[0.4995413, 0.5004587]], dtype=float32)"
      ]
     },
     "execution_count": 54,
     "metadata": {},
     "output_type": "execute_result"
    }
   ],
   "source": [
    "model.predict(ime.reshape(1,dataDim))"
   ]
  },
  {
   "cell_type": "code",
   "execution_count": null,
   "metadata": {},
   "outputs": [],
   "source": []
  }
 ],
 "metadata": {
  "kernelspec": {
   "display_name": "Python 3",
   "language": "python",
   "name": "python3"
  },
  "language_info": {
   "codemirror_mode": {
    "name": "ipython",
    "version": 3
   },
   "file_extension": ".py",
   "mimetype": "text/x-python",
   "name": "python",
   "nbconvert_exporter": "python",
   "pygments_lexer": "ipython3",
   "version": "3.6.8"
  }
 },
 "nbformat": 4,
 "nbformat_minor": 2
}
